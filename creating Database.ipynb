{
 "cells": [
  {
   "cell_type": "code",
   "execution_count": null,
   "id": "5b38385f-f0d4-431f-97d1-f4b4e717d0a6",
   "metadata": {},
   "outputs": [],
   "source": [
    "import numpy as np"
   ]
  },
  {
   "cell_type": "code",
   "execution_count": 11,
   "id": "54cc71e8-63e6-4442-8f11-fd4ae2ace710",
   "metadata": {},
   "outputs": [
    {
     "name": "stdout",
     "output_type": "stream",
     "text": [
      "0    a\n",
      "1    b\n",
      "2    c\n",
      "3    d\n",
      "4    e\n",
      "5    f\n",
      "6    g\n",
      "7    h\n",
      "dtype: object\n"
     ]
    }
   ],
   "source": [
    "import pandas as pd\n",
    "s = pd.Series(list('abcdefgh'))\n",
    "print(s)"
   ]
  },
  {
   "cell_type": "code",
   "execution_count": 26,
   "id": "3e16aa2a-76f9-4dea-a0a6-2ea979cc885a",
   "metadata": {},
   "outputs": [
    {
     "name": "stdout",
     "output_type": "stream",
     "text": [
      "0       Ondo\n",
      "1       Osun\n",
      "2      Lagos\n",
      "3     Kaduna\n",
      "4    Katsina\n",
      "5     Jigawa\n",
      "6    Adamawa\n",
      "dtype: object\n"
     ]
    }
   ],
   "source": [
    "np_states = np.array(['Ondo', 'Osun', 'Lagos', 'Kaduna', 'Katsina', 'Jigawa', 'Adamawa'])\n",
    "b = pd.Series(np_states)\n",
    "print(b)"
   ]
  },
  {
   "cell_type": "code",
   "execution_count": 27,
   "id": "c73d493d-c2d2-4495-a244-9ddcaa5284ec",
   "metadata": {},
   "outputs": [
    {
     "name": "stdout",
     "output_type": "stream",
     "text": [
      "0    0.6\n",
      "1    1.2\n",
      "2    1.8\n",
      "3    2.4\n",
      "4    3.6\n",
      "5    4.2\n",
      "6    4.8\n",
      "7    5.4\n",
      "dtype: float64\n"
     ]
    }
   ],
   "source": [
    "np_speed = np.array([0.6, 1.2, 1.8, 2.4, 3.6, 4.2, 4.8, 5.4])\n",
    "yup = pd.Series(np_speed)\n",
    "print(yup)"
   ]
  },
  {
   "cell_type": "code",
   "execution_count": 23,
   "id": "4a8cf1a2-d488-443e-bef1-3a83a5db2006",
   "metadata": {},
   "outputs": [
    {
     "name": "stdout",
     "output_type": "stream",
     "text": [
      "0    22\n",
      "1    33\n",
      "2    37\n",
      "3    47\n",
      "4    78\n",
      "5    90\n",
      "dtype: int32\n"
     ]
    }
   ],
   "source": [
    "np_weekly_hours = np.array([22, 33, 37, 47, 78, 90])\n",
    "b = pd.Series(np_weekly_hours)\n",
    "print(b)"
   ]
  },
  {
   "cell_type": "code",
   "execution_count": 15,
   "id": "48bcc100-8a1f-42f7-9b04-c43e2fbfad6f",
   "metadata": {},
   "outputs": [
    {
     "name": "stdout",
     "output_type": "stream",
     "text": [
      "              customer order1  customer order2\n",
      "apples                    4.0             21.0\n",
      "bananas                   9.0             32.0\n",
      "blueberries              10.0             17.0\n",
      "kiwi                      8.0             43.0\n",
      "pomegranates              NaN              8.0\n",
      "tomatoes                 70.0              NaN\n"
     ]
    }
   ],
   "source": [
    "customer_order1 = pd.Series([4, 9, 8, 70, 10],index = ['apples', 'bananas', 'kiwi', 'tomatoes', 'blueberries'])\n",
    "customer_order2 = pd.Series([21, 32, 43, 8, 17],index = ['apples', 'bananas', 'kiwi', 'pomegranates', 'blueberries'])\n",
    "total_customer_order = customer_order1 + customer_order2\n",
    "df_total_customer_order = pd.DataFrame({'customer order1':customer_order1, 'customer order2':customer_order2})\n",
    "print(df_total_customer_order)\n"
   ]
  },
  {
   "cell_type": "code",
   "execution_count": 16,
   "id": "124132be",
   "metadata": {},
   "outputs": [
    {
     "name": "stdout",
     "output_type": "stream",
     "text": [
      "apples          25.0\n",
      "bananas         41.0\n",
      "blueberries     27.0\n",
      "kiwi            51.0\n",
      "pomegranates     NaN\n",
      "tomatoes         NaN\n",
      "dtype: float64\n"
     ]
    }
   ],
   "source": [
    "print(total_customer_order)"
   ]
  },
  {
   "cell_type": "code",
   "execution_count": 6,
   "id": "98d4183a-0490-466e-9169-b9cf6fc69d60",
   "metadata": {},
   "outputs": [
    {
     "name": "stdout",
     "output_type": "stream",
     "text": [
      "    Name  Age    Size\n",
      "0    Ade   34   Large\n",
      "1  Dammy   37   Small\n",
      "2   Wami   12  Medium\n",
      "3   Bola   28   Small\n"
     ]
    }
   ],
   "source": [
    "import pandas as pd\n",
    "customer_data = {'Name':['Ade','Dammy', 'Wami', 'Bola'], 'Age':[34, 37, 12, 28], 'Size':['Large', 'Small', 'Medium', 'Small']}\n",
    "df_customer_data = pd.DataFrame(customer_data)\n",
    "print(df_customer_data)"
   ]
  },
  {
   "cell_type": "code",
   "execution_count": 29,
   "id": "dcd134e5",
   "metadata": {},
   "outputs": [
    {
     "name": "stdout",
     "output_type": "stream",
     "text": [
      "   year\n",
      "0  1990\n",
      "1  1991\n",
      "2  1992\n",
      "3  1993\n",
      "4  1994\n"
     ]
    }
   ],
   "source": [
    "import numpy as np\n",
    "import pandas as pd\n",
    "np_array = np.array([1990, 1991, 1992, 1993, 1994])\n",
    "dict_ndarray = {'year':np_array}\n",
    "df_dict_ndarray = pd.DataFrame(df_dict_ndarray)\n",
    "print(df_dict_ndarray)"
   ]
  },
  {
   "cell_type": "code",
   "execution_count": 13,
   "id": "56463215-8222-4b5a-b562-ea0f8929146b",
   "metadata": {},
   "outputs": [
    {
     "name": "stdout",
     "output_type": "stream",
     "text": [
      "              customer order1  customer order2\n",
      "apples                    4.0             21.0\n",
      "bananas                   9.0             32.0\n",
      "blueberries              10.0             17.0\n",
      "kiwi                      8.0             43.0\n",
      "pomegranates              NaN              8.0\n",
      "tomatoes                 70.0              NaN\n",
      "              customer order1  customer order2\n",
      "apples                    4.0             21.0\n",
      "bananas                   9.0             32.0\n",
      "blueberries              10.0             17.0\n",
      "kiwi                      8.0             43.0\n",
      "pomegranates              NaN              8.0\n",
      "tomatoes                 70.0              NaN\n"
     ]
    }
   ],
   "source": [
    "import numpy as np\n",
    "import pandas as pd\n",
    "customer_order1 = pd.Series([4, 9, 8, 70, 10],index = ['apples', 'bananas', 'kiwi', 'tomatoes', 'blueberries'])\n",
    "customer_order2 = pd.Series([21, 32, 43, 8, 17],index = ['apples', 'bananas', 'kiwi', 'pomegranates', 'blueberries'])\n",
    "total_customer_order = customer_order1 + customer_order2\n",
    "df_total_customer_order = pd.DataFrame({'customer order1':customer_order1, 'customer order2':customer_order2})\n",
    "print(df_total_customer_order)\n",
    "df_from_df = pd.DataFrame(df_total_customer_order)\n",
    "print(df_from_df)"
   ]
  },
  {
   "cell_type": "code",
   "execution_count": null,
   "id": "4b39f179",
   "metadata": {},
   "outputs": [],
   "source": [
    "import numpy as np\n",
    "import pandas as pd"
   ]
  },
  {
   "cell_type": "code",
   "execution_count": 14,
   "id": "f8cf95ed",
   "metadata": {},
   "outputs": [
    {
     "data": {
      "text/plain": [
       "<bound method NDFrame.describe of               customer order1  customer order2\n",
       "apples                    4.0             21.0\n",
       "bananas                   9.0             32.0\n",
       "blueberries              10.0             17.0\n",
       "kiwi                      8.0             43.0\n",
       "pomegranates              NaN              8.0\n",
       "tomatoes                 70.0              NaN>"
      ]
     },
     "execution_count": 14,
     "metadata": {},
     "output_type": "execute_result"
    }
   ],
   "source": [
    "df_total_customer_order.describe"
   ]
  },
  {
   "cell_type": "code",
   "execution_count": 16,
   "id": "070ae2d0",
   "metadata": {},
   "outputs": [
    {
     "data": {
      "text/plain": [
       "Index(['apples', 'bananas', 'blueberries'], dtype='object')"
      ]
     },
     "execution_count": 16,
     "metadata": {},
     "output_type": "execute_result"
    }
   ],
   "source": [
    "df_total_customer_order.index[0:3]"
   ]
  },
  {
   "cell_type": "code",
   "execution_count": 17,
   "id": "5c3d798a",
   "metadata": {},
   "outputs": [
    {
     "data": {
      "text/html": [
       "<div>\n",
       "<style scoped>\n",
       "    .dataframe tbody tr th:only-of-type {\n",
       "        vertical-align: middle;\n",
       "    }\n",
       "\n",
       "    .dataframe tbody tr th {\n",
       "        vertical-align: top;\n",
       "    }\n",
       "\n",
       "    .dataframe thead th {\n",
       "        text-align: right;\n",
       "    }\n",
       "</style>\n",
       "<table border=\"1\" class=\"dataframe\">\n",
       "  <thead>\n",
       "    <tr style=\"text-align: right;\">\n",
       "      <th></th>\n",
       "      <th>customer order1</th>\n",
       "      <th>customer order2</th>\n",
       "    </tr>\n",
       "  </thead>\n",
       "  <tbody>\n",
       "    <tr>\n",
       "      <th>apples</th>\n",
       "      <td>4.0</td>\n",
       "      <td>21.0</td>\n",
       "    </tr>\n",
       "    <tr>\n",
       "      <th>bananas</th>\n",
       "      <td>9.0</td>\n",
       "      <td>32.0</td>\n",
       "    </tr>\n",
       "    <tr>\n",
       "      <th>blueberries</th>\n",
       "      <td>10.0</td>\n",
       "      <td>17.0</td>\n",
       "    </tr>\n",
       "  </tbody>\n",
       "</table>\n",
       "</div>"
      ],
      "text/plain": [
       "             customer order1  customer order2\n",
       "apples                   4.0             21.0\n",
       "bananas                  9.0             32.0\n",
       "blueberries             10.0             17.0"
      ]
     },
     "execution_count": 17,
     "metadata": {},
     "output_type": "execute_result"
    }
   ],
   "source": [
    "df_total_customer_order.head(3)"
   ]
  },
  {
   "cell_type": "code",
   "execution_count": 18,
   "id": "47304b8b",
   "metadata": {},
   "outputs": [
    {
     "data": {
      "text/html": [
       "<div>\n",
       "<style scoped>\n",
       "    .dataframe tbody tr th:only-of-type {\n",
       "        vertical-align: middle;\n",
       "    }\n",
       "\n",
       "    .dataframe tbody tr th {\n",
       "        vertical-align: top;\n",
       "    }\n",
       "\n",
       "    .dataframe thead th {\n",
       "        text-align: right;\n",
       "    }\n",
       "</style>\n",
       "<table border=\"1\" class=\"dataframe\">\n",
       "  <thead>\n",
       "    <tr style=\"text-align: right;\">\n",
       "      <th></th>\n",
       "      <th>customer order1</th>\n",
       "      <th>customer order2</th>\n",
       "    </tr>\n",
       "  </thead>\n",
       "  <tbody>\n",
       "    <tr>\n",
       "      <th>pomegranates</th>\n",
       "      <td>NaN</td>\n",
       "      <td>8.0</td>\n",
       "    </tr>\n",
       "    <tr>\n",
       "      <th>tomatoes</th>\n",
       "      <td>70.0</td>\n",
       "      <td>NaN</td>\n",
       "    </tr>\n",
       "  </tbody>\n",
       "</table>\n",
       "</div>"
      ],
      "text/plain": [
       "              customer order1  customer order2\n",
       "pomegranates              NaN              8.0\n",
       "tomatoes                 70.0              NaN"
      ]
     },
     "execution_count": 18,
     "metadata": {},
     "output_type": "execute_result"
    }
   ],
   "source": [
    "df_total_customer_order.tail(2)"
   ]
  },
  {
   "cell_type": "code",
   "execution_count": 32,
   "id": "394a26be",
   "metadata": {},
   "outputs": [
    {
     "data": {
      "text/html": [
       "<div>\n",
       "<style scoped>\n",
       "    .dataframe tbody tr th:only-of-type {\n",
       "        vertical-align: middle;\n",
       "    }\n",
       "\n",
       "    .dataframe tbody tr th {\n",
       "        vertical-align: top;\n",
       "    }\n",
       "\n",
       "    .dataframe thead th {\n",
       "        text-align: right;\n",
       "    }\n",
       "</style>\n",
       "<table border=\"1\" class=\"dataframe\">\n",
       "  <thead>\n",
       "    <tr style=\"text-align: right;\">\n",
       "      <th></th>\n",
       "      <th>customer order1</th>\n",
       "      <th>customer order2</th>\n",
       "    </tr>\n",
       "  </thead>\n",
       "  <tbody>\n",
       "    <tr>\n",
       "      <th>blueberries</th>\n",
       "      <td>10.0</td>\n",
       "      <td>17.0</td>\n",
       "    </tr>\n",
       "    <tr>\n",
       "      <th>tomatoes</th>\n",
       "      <td>70.0</td>\n",
       "      <td>NaN</td>\n",
       "    </tr>\n",
       "  </tbody>\n",
       "</table>\n",
       "</div>"
      ],
      "text/plain": [
       "             customer order1  customer order2\n",
       "blueberries             10.0             17.0\n",
       "tomatoes                70.0              NaN"
      ]
     },
     "execution_count": 32,
     "metadata": {},
     "output_type": "execute_result"
    }
   ],
   "source": [
    "df_total_customer_order[df_total_customer_order['customer order1']>9.0]"
   ]
  },
  {
   "cell_type": "code",
   "execution_count": null,
   "id": "2843c697",
   "metadata": {},
   "outputs": [],
   "source": []
  },
  {
   "cell_type": "code",
   "execution_count": null,
   "id": "dfa85782",
   "metadata": {},
   "outputs": [],
   "source": []
  },
  {
   "cell_type": "code",
   "execution_count": null,
   "id": "ffdd9968",
   "metadata": {},
   "outputs": [],
   "source": []
  }
 ],
 "metadata": {
  "kernelspec": {
   "display_name": "Python 3 (ipykernel)",
   "language": "python",
   "name": "python3"
  },
  "language_info": {
   "codemirror_mode": {
    "name": "ipython",
    "version": 3
   },
   "file_extension": ".py",
   "mimetype": "text/x-python",
   "name": "python",
   "nbconvert_exporter": "python",
   "pygments_lexer": "ipython3",
   "version": "3.9.7"
  }
 },
 "nbformat": 4,
 "nbformat_minor": 5
}
